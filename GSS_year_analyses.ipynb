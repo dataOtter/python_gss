{
 "cells": [
  {
   "cell_type": "code",
   "execution_count": 1,
   "metadata": {
    "collapsed": true
   },
   "outputs": [],
   "source": [
    "import sys\n",
    "sys.path.append(\"C:/Users/Maisha/Dropbox/MB_dev/Python/python_gss\")\n",
    "\n",
    "import csv_to_dataframe\n",
    "import numpy as np\n",
    "\n",
    "from sklearn.model_selection import train_test_split\n",
    "from sklearn.neighbors import KNeighborsClassifier"
   ]
  },
  {
   "cell_type": "code",
   "execution_count": 2,
   "metadata": {
    "collapsed": true
   },
   "outputs": [],
   "source": [
    "gss_year = csv_to_dataframe.get_gss_year()\n",
    "#csv_to_dataframe.print_bunch(gss_year)"
   ]
  },
  {
   "cell_type": "code",
   "execution_count": 8,
   "metadata": {},
   "outputs": [
    {
     "data": {
      "text/plain": [
       "array([2992, 2904, 2832, 2817, 2765, 2812, 4510, 2023, 2044, 1974, 2538,\n",
       "       2867], dtype=int64)"
      ]
     },
     "execution_count": 8,
     "metadata": {},
     "output_type": "execute_result"
    }
   ],
   "source": [
    "gss_year.data.shape\n",
    "gss_year.raw_pandas_frame['year']\n",
    "gss_year.target\n",
    "#type(gss_year.target[1])\n",
    "#gss_year.target_names\n",
    "np.bincount(gss_year.target)[1994::2]\n"
   ]
  },
  {
   "cell_type": "code",
   "execution_count": 9,
   "metadata": {},
   "outputs": [
    {
     "data": {
      "text/plain": [
       "[('1994', 2992),\n",
       " ('1996', 2904),\n",
       " ('1998', 2832),\n",
       " ('2000', 2817),\n",
       " ('2002', 2765),\n",
       " ('2004', 2812),\n",
       " ('2006', 4510),\n",
       " ('2008', 2023),\n",
       " ('2010', 2044),\n",
       " ('2012', 1974),\n",
       " ('2014', 2538),\n",
       " ('2016', 2867)]"
      ]
     },
     "execution_count": 9,
     "metadata": {},
     "output_type": "execute_result"
    }
   ],
   "source": [
    "list(zip(gss_year.target_names, np.bincount(gss_year.target)[1994::2]))"
   ]
  },
  {
   "cell_type": "code",
   "execution_count": 5,
   "metadata": {},
   "outputs": [
    {
     "name": "stdout",
     "output_type": "stream",
     "text": [
      "[   0    0    0 ..., 2538    0 2867]\n"
     ]
    }
   ],
   "source": [
    "a = gss_year.target\n",
    "b = np.bincount(a)\n",
    "print(b)\n",
    "c = gss_year.target_names\n",
    "#list(zip(c, b))"
   ]
  },
  {
   "cell_type": "code",
   "execution_count": null,
   "metadata": {
    "collapsed": true
   },
   "outputs": [],
   "source": []
  }
 ],
 "metadata": {
  "kernelspec": {
   "display_name": "Python 3",
   "language": "python",
   "name": "python3"
  },
  "language_info": {
   "codemirror_mode": {
    "name": "ipython",
    "version": 3
   },
   "file_extension": ".py",
   "mimetype": "text/x-python",
   "name": "python",
   "nbconvert_exporter": "python",
   "pygments_lexer": "ipython3",
   "version": "3.6.1"
  }
 },
 "nbformat": 4,
 "nbformat_minor": 2
}
