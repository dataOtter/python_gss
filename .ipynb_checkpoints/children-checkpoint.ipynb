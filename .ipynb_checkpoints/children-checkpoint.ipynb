{
 "cells": [
  {
   "cell_type": "code",
   "execution_count": 10,
   "metadata": {
    "collapsed": true
   },
   "outputs": [],
   "source": [
    "import sys\n",
    "sys.path.append(\"C:/Users/Maisha/Dropbox/MB_dev/Python/python_gss\")\n",
    "\n",
    "from csv_to_dataframe import *\n",
    "import numpy as np\n",
    "\n",
    "from sklearn.model_selection import train_test_split\n",
    "from sklearn.neighbors import KNeighborsClassifier\n",
    "\n",
    "dataf = get_gss()"
   ]
  },
  {
   "cell_type": "code",
   "execution_count": 36,
   "metadata": {},
   "outputs": [
    {
     "name": "stdout",
     "output_type": "stream",
     "text": [
      "Average sibs = 3.71570184915, standard dev = 3.154925061379272\n"
     ]
    }
   ],
   "source": [
    "'''Across all years (taken all together) what was the \n",
    "numeric average number of siblings (sibs) that a respondent had? \n",
    "'''\n",
    "smallsibs1 = dataf[dataf['sibs']<98]\n",
    "smallsibs2 = smallsibs1[smallsibs1['sibs']>=0]\n",
    "ave = sum(smallsibs2['sibs'])/len(smallsibs2['sibs'])\n",
    "sd = np.std(smallsibs2['sibs'])\n",
    "print(\"Average sibs = \"+str(ave)+\", standard dev = \"+str(sd))"
   ]
  },
  {
   "cell_type": "code",
   "execution_count": 38,
   "metadata": {},
   "outputs": [
    {
     "data": {
      "text/plain": [
       "1518"
      ]
     },
     "execution_count": 38,
     "metadata": {},
     "output_type": "execute_result"
    }
   ],
   "source": [
    "iaps = dataf[dataf['year']==2006]\n",
    "nuiaps = len(iaps[iaps['sibs']<0]['sibs'])\n",
    "nuiaps"
   ]
  },
  {
   "cell_type": "code",
   "execution_count": null,
   "metadata": {
    "collapsed": true
   },
   "outputs": [],
   "source": [
    "'''Across all years (taken all together) what was the numeric average number of children (childs) \n",
    "that a respondent had? '''"
   ]
  },
  {
   "cell_type": "code",
   "execution_count": 41,
   "metadata": {},
   "outputs": [
    {
     "name": "stdout",
     "output_type": "stream",
     "text": [
      "Average childs = 1.85162503032, standard dev = 1.674684284833455\n"
     ]
    }
   ],
   "source": [
    "smallchilds = dataf[dataf['childs']<9]\n",
    "ave = sum(smallchilds['childs'])/len(smallchilds['childs'])\n",
    "sd = np.std(smallchilds['childs'])\n",
    "print(\"Average childs = \"+str(ave)+\", standard dev = \"+str(sd))"
   ]
  },
  {
   "cell_type": "code",
   "execution_count": 40,
   "metadata": {},
   "outputs": [
    {
     "data": {
      "text/plain": [
       "Series([], Name: childs, dtype: int64)"
      ]
     },
     "execution_count": 40,
     "metadata": {},
     "output_type": "execute_result"
    }
   ],
   "source": [
    "dataf[dataf['childs']<8]['childs']"
   ]
  },
  {
   "cell_type": "code",
   "execution_count": 58,
   "metadata": {},
   "outputs": [
    {
     "data": {
      "text/plain": [
       "17363"
      ]
     },
     "execution_count": 58,
     "metadata": {},
     "output_type": "execute_result"
    }
   ],
   "source": [
    "smallchilds = dataf.query('childs<sibs and sibs<8')\n",
    "len(smallchilds)"
   ]
  },
  {
   "cell_type": "code",
   "execution_count": null,
   "metadata": {
    "collapsed": true
   },
   "outputs": [],
   "source": [
    "'''In 1994, what was the numeric average number of siblings (sibs) that a respondent had? \n",
    "What was it in 2016?'''"
   ]
  },
  {
   "cell_type": "code",
   "execution_count": 69,
   "metadata": {},
   "outputs": [
    {
     "name": "stdout",
     "output_type": "stream",
     "text": [
      "3.71821536397 3.71837875611\n"
     ]
    }
   ],
   "source": [
    "x1 = dataf[dataf['sibs']<98]\n",
    "x2 = x1[x1['sibs']>=0]\n",
    "x94 = x2.query('year==1994')\n",
    "x16 = x2.query('year==2016')\n",
    "ave94 = sum(x94['sibs'])/len(x94['sibs'])\n",
    "ave16 = sum(x16['sibs'])/len(x16['sibs'])\n",
    "print(ave94, ave16)"
   ]
  },
  {
   "cell_type": "code",
   "execution_count": 64,
   "metadata": {},
   "outputs": [
    {
     "name": "stdout",
     "output_type": "stream",
     "text": [
      "0.05434417980543442 0.045422781271837874\n"
     ]
    }
   ],
   "source": [
    "x1zero = dataf[dataf['sibs']==0]\n",
    "x94 = len(x1zero.query('year==1994'))\n",
    "x16 = len(x1zero.query('year==2016'))\n",
    "all94 = len(dataf.query('year==1994 and sibs>=0 and sibs<98'))\n",
    "all16 = len(dataf.query('year==2016 and sibs>=0 and sibs<98'))\n",
    "perc94 = x94/all94\n",
    "perc16 = x16/all16\n",
    "print(perc94, perc16)"
   ]
  },
  {
   "cell_type": "code",
   "execution_count": 66,
   "metadata": {},
   "outputs": [
    {
     "data": {
      "text/plain": [
       "'In 1994, what was the numeric average number of children (childs) that a respondent had? What was it in 2016?'"
      ]
     },
     "execution_count": 66,
     "metadata": {},
     "output_type": "execute_result"
    }
   ],
   "source": [
    "'''In 1994, what was the numeric average number of children (childs) that a respondent had? What was it in 2016?'''"
   ]
  },
  {
   "cell_type": "code",
   "execution_count": 71,
   "metadata": {},
   "outputs": [
    {
     "name": "stdout",
     "output_type": "stream",
     "text": [
      "1.88034759358 1.87199162888\n"
     ]
    }
   ],
   "source": [
    "def children(y1, y2):\n",
    "    x1 = dataf[dataf['childs']<98]\n",
    "    x2 = x1[x1['childs']>=0]\n",
    "    x94 = x2.query('year=={}'.format(y1))\n",
    "    x16 = x2.query('year=={}'.format(y2))\n",
    "    ave94 = sum(x94['childs'])/len(x94['childs'])\n",
    "    ave16 = sum(x16['childs'])/len(x16['childs'])\n",
    "    print(ave94, ave16)\n",
    "    \n",
    "children(1994,2016)"
   ]
  },
  {
   "cell_type": "code",
   "execution_count": 73,
   "metadata": {},
   "outputs": [
    {
     "data": {
      "text/plain": [
       "'Make a scatter plot in which the X axis is the number \\nof children (childs), and the Y axis is the number of \\nsiblings (sibs).  There will be 30,000+ points on this graph.  \\nVisually, does it seem like there is a relationship?'"
      ]
     },
     "execution_count": 73,
     "metadata": {},
     "output_type": "execute_result"
    }
   ],
   "source": [
    "'''Make a scatter plot in which the X axis is the number \n",
    "of children (childs), and the Y axis is the number of \n",
    "siblings (sibs).  There will be 30,000+ points on this graph.  \n",
    "Visually, does it seem like there is a relationship?'''"
   ]
  },
  {
   "cell_type": "code",
   "execution_count": 76,
   "metadata": {},
   "outputs": [
    {
     "data": {
      "text/plain": [
       "[]"
      ]
     },
     "execution_count": 76,
     "metadata": {},
     "output_type": "execute_result"
    }
   ],
   "source": [
    "%matplotlib inline\n",
    "the_plot = dataf.plot(kind='scatter', x='sibs', y='childs')\n",
    "the_plot.plot()"
   ]
  },
  {
   "cell_type": "code",
   "execution_count": 80,
   "metadata": {},
   "outputs": [
    {
     "data": {
      "text/plain": [
       "<matplotlib.axes._subplots.AxesSubplot at 0x2b49fde5b38>"
      ]
     },
     "execution_count": 80,
     "metadata": {},
     "output_type": "execute_result"
    },
    {
     "data": {
      "image/png": "[encoded data removed]",
      "text/plain": [
       "<matplotlib.figure.Figure at 0x2b49f5565c0>"
      ]
     },
     "metadata": {},
     "output_type": "display_data"
    }
   ],
   "source": [
    "%matplotlib inline\n",
    "df = pd.DataFrame(np.random.randn(10,2), columns=['col1','col2'])\n",
    "df['col3'] = np.arange(len(df))**2 * 100 + 100\n",
    "df.plot(kind='scatter', x='col1', y='col2', s=df.col3)"
   ]
  },
  {
   "cell_type": "code",
   "execution_count": null,
   "metadata": {
    "collapsed": true
   },
   "outputs": [],
   "source": []
  }
 ],
 "metadata": {
  "kernelspec": {
   "display_name": "Python 3",
   "language": "python",
   "name": "python3"
  },
  "language_info": {
   "codemirror_mode": {
    "name": "ipython",
    "version": 3
   },
   "file_extension": ".py",
   "mimetype": "text/x-python",
   "name": "python",
   "nbconvert_exporter": "python",
   "pygments_lexer": "ipython3",
   "version": "3.6.1"
  }
 },
 "nbformat": 4,
 "nbformat_minor": 2
}
