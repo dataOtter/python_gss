{
 "cells": [
  {
   "cell_type": "code",
   "execution_count": 10,
   "metadata": {
    "collapsed": true
   },
   "outputs": [],
   "source": [
    "import sys\n",
    "sys.path.append(\"C:/Users/Maisha/Dropbox/MB_dev/Python/python_gss\")\n",
    "\n",
    "from csv_to_dataframe import *\n",
    "import numpy as np\n",
    "\n",
    "from sklearn.model_selection import train_test_split\n",
    "from sklearn.neighbors import KNeighborsClassifier\n",
    "\n",
    "%matplotlib inline\n",
    "\n",
    "dataf = get_gss()"
   ]
  },
  {
   "cell_type": "code",
   "execution_count": 36,
   "metadata": {},
   "outputs": [
    {
     "name": "stdout",
     "output_type": "stream",
     "text": [
      "Average sibs = 3.71570184915, standard dev = 3.154925061379272\n"
     ]
    }
   ],
   "source": [
    "'''Across all years (taken all together) what was the \n",
    "numeric average number of siblings (sibs) that a respondent had? \n",
    "'''\n",
    "smallsibs1 = dataf[dataf['sibs']<98]\n",
    "smallsibs2 = smallsibs1[smallsibs1['sibs']>=0]\n",
    "ave = sum(smallsibs2['sibs'])/len(smallsibs2['sibs'])\n",
    "sd = np.std(smallsibs2['sibs'])\n",
    "print(\"Average sibs = \"+str(ave)+\", standard dev = \"+str(sd))"
   ]
  },
  {
   "cell_type": "code",
   "execution_count": 38,
   "metadata": {},
   "outputs": [
    {
     "data": {
      "text/plain": [
       "1518"
      ]
     },
     "execution_count": 38,
     "metadata": {},
     "output_type": "execute_result"
    }
   ],
   "source": [
    "iaps = dataf[dataf['year']==2006]\n",
    "nuiaps = len(iaps[iaps['sibs']<0]['sibs'])\n",
    "nuiaps"
   ]
  },
  {
   "cell_type": "code",
   "execution_count": null,
   "metadata": {
    "collapsed": true
   },
   "outputs": [],
   "source": [
    "'''Across all years (taken all together) what was the numeric average number of children (childs) \n",
    "that a respondent had? '''"
   ]
  },
  {
   "cell_type": "code",
   "execution_count": 41,
   "metadata": {},
   "outputs": [
    {
     "name": "stdout",
     "output_type": "stream",
     "text": [
      "Average childs = 1.85162503032, standard dev = 1.674684284833455\n"
     ]
    }
   ],
   "source": [
    "smallchilds = dataf[dataf['childs']<9]\n",
    "ave = sum(smallchilds['childs'])/len(smallchilds['childs'])\n",
    "sd = np.std(smallchilds['childs'])\n",
    "print(\"Average childs = \"+str(ave)+\", standard dev = \"+str(sd))"
   ]
  },
  {
   "cell_type": "code",
   "execution_count": 40,
   "metadata": {},
   "outputs": [
    {
     "data": {
      "text/plain": [
       "Series([], Name: childs, dtype: int64)"
      ]
     },
     "execution_count": 40,
     "metadata": {},
     "output_type": "execute_result"
    }
   ],
   "source": [
    "dataf[dataf['childs']<8]['childs']"
   ]
  },
  {
   "cell_type": "code",
   "execution_count": 58,
   "metadata": {},
   "outputs": [
    {
     "data": {
      "text/plain": [
       "17363"
      ]
     },
     "execution_count": 58,
     "metadata": {},
     "output_type": "execute_result"
    }
   ],
   "source": [
    "smallchilds = dataf.query('childs<sibs and sibs<8')\n",
    "len(smallchilds)"
   ]
  },
  {
   "cell_type": "code",
   "execution_count": null,
   "metadata": {
    "collapsed": true
   },
   "outputs": [],
   "source": [
    "'''In 1994, what was the numeric average number of siblings (sibs) that a respondent had? \n",
    "What was it in 2016?'''"
   ]
  },
  {
   "cell_type": "code",
   "execution_count": 69,
   "metadata": {},
   "outputs": [
    {
     "name": "stdout",
     "output_type": "stream",
     "text": [
      "3.71821536397 3.71837875611\n"
     ]
    }
   ],
   "source": [
    "x1 = dataf[dataf['sibs']<98]\n",
    "x2 = x1[x1['sibs']>=0]\n",
    "x94 = x2.query('year==1994')\n",
    "x16 = x2.query('year==2016')\n",
    "ave94 = sum(x94['sibs'])/len(x94['sibs'])\n",
    "ave16 = sum(x16['sibs'])/len(x16['sibs'])\n",
    "print(ave94, ave16)"
   ]
  },
  {
   "cell_type": "code",
   "execution_count": 64,
   "metadata": {},
   "outputs": [
    {
     "name": "stdout",
     "output_type": "stream",
     "text": [
      "0.05434417980543442 0.045422781271837874\n"
     ]
    }
   ],
   "source": [
    "x1zero = dataf[dataf['sibs']==0]\n",
    "x94 = len(x1zero.query('year==1994'))\n",
    "x16 = len(x1zero.query('year==2016'))\n",
    "all94 = len(dataf.query('year==1994 and sibs>=0 and sibs<98'))\n",
    "all16 = len(dataf.query('year==2016 and sibs>=0 and sibs<98'))\n",
    "perc94 = x94/all94\n",
    "perc16 = x16/all16\n",
    "print(perc94, perc16)"
   ]
  },
  {
   "cell_type": "code",
   "execution_count": 66,
   "metadata": {},
   "outputs": [
    {
     "data": {
      "text/plain": [
       "'In 1994, what was the numeric average number of children (childs) that a respondent had? What was it in 2016?'"
      ]
     },
     "execution_count": 66,
     "metadata": {},
     "output_type": "execute_result"
    }
   ],
   "source": [
    "'''In 1994, what was the numeric average number of children (childs) that a respondent had? What was it in 2016?'''"
   ]
  },
  {
   "cell_type": "code",
   "execution_count": 85,
   "metadata": {},
   "outputs": [
    {
     "name": "stdout",
     "output_type": "stream",
     "text": [
      "1.8588669125 1.85204616999\n"
     ]
    }
   ],
   "source": [
    "def children(y1, y2):\n",
    "    x1 = dataf[dataf['childs']<9]\n",
    "    x2 = x1[x1['childs']>=0]\n",
    "    x94 = x2.query('year=={}'.format(y1))\n",
    "    x16 = x2.query('year=={}'.format(y2))\n",
    "    ave94 = sum(x94['childs'])/len(x94['childs'])\n",
    "    ave16 = sum(x16['childs'])/len(x16['childs'])\n",
    "    print(ave94, ave16)\n",
    "    \n",
    "children(1994,2016)"
   ]
  },
  {
   "cell_type": "code",
   "execution_count": 73,
   "metadata": {},
   "outputs": [
    {
     "data": {
      "text/plain": [
       "'Make a scatter plot in which the X axis is the number \\nof children (childs), and the Y axis is the number of \\nsiblings (sibs).  There will be 30,000+ points on this graph.  \\nVisually, does it seem like there is a relationship?'"
      ]
     },
     "execution_count": 73,
     "metadata": {},
     "output_type": "execute_result"
    }
   ],
   "source": [
    "'''Make a scatter plot in which the X axis is the number \n",
    "of children (childs), and the Y axis is the number of \n",
    "siblings (sibs).  There will be 30,000+ points on this graph.  \n",
    "Visually, does it seem like there is a relationship?'''"
   ]
  },
  {
   "cell_type": "code",
   "execution_count": 103,
   "metadata": {},
   "outputs": [
    {
     "data": {
      "text/plain": [
       "Index(['ballot', 'chldidel', 'kidssol', 'parsol', 'wksubs', 'wksub', 'satjob',\n",
       "       'workhard', 'thnkself', 'confed', 'coneduc', 'confinan', 'hapmar',\n",
       "       'happy', 'bible', 'spanking', 'letdie1', 'fear', 'zodiac', 'dwelown',\n",
       "       'realrinc', 'realinc', 'partners', 'marhomo', 'letin', 'discaff',\n",
       "       'marblk', 'helpnot', 'helppoor', 'fefam', 'tvhours', 'news', 'relig16',\n",
       "       'pray', 'speduc', 'maeduc', 'paeduc', 'educ', 'agekdbrn', 'age',\n",
       "       'childs', 'sibs', 'spwrksta', 'marital', 'hrs2', 'hrs1', 'wrkstat',\n",
       "       'id_', 'sex', 'race', 'res16', 'relig', 'grass', 'gunlaw', 'cappun',\n",
       "       'tax', 'eqwlth', 'nateduc', 'natdrug', 'natcrime', 'natenvir',\n",
       "       'polviews', 'partyid', 'born', 'reg16', 'year'],\n",
       "      dtype='object')"
      ]
     },
     "execution_count": 103,
     "metadata": {},
     "output_type": "execute_result"
    }
   ],
   "source": [
    "dfcs = dataf.query('childs<9 and 0<=sibs<8')\n",
    "dfcs.columns"
   ]
  },
  {
   "cell_type": "code",
   "execution_count": 164,
   "metadata": {},
   "outputs": [],
   "source": [
    "#dataf.spanking.unique()\n",
    "colors = {'1':'red', '2':'orange', '3':'turquoise', '4':'blue', '8':'white', '9':'white', '0':'white'}\n",
    "#sp_color = map( lambda x : colors[x], dataf.spanking )\n",
    "sp_color = dataf['spanking'].apply(lambda x : colors[str(x)])\n",
    "#print(list(sp_color))"
   ]
  },
  {
   "cell_type": "code",
   "execution_count": 174,
   "metadata": {},
   "outputs": [
    {
     "data": {
      "text/plain": [
       "pandas.core.series.Series"
      ]
     },
     "execution_count": 174,
     "metadata": {},
     "output_type": "execute_result"
    }
   ],
   "source": [
    "type(sp_color)"
   ]
  },
  {
   "cell_type": "code",
   "execution_count": 182,
   "metadata": {},
   "outputs": [
    {
     "name": "stdout",
     "output_type": "stream",
     "text": [
      "Axes(0.125,0.125;0.775x0.755) Axes(0.125,0.125;0.775x0.755)\n"
     ]
    },
    {
     "data": {
      "image/png": "[encoded data removed]",
      "text/plain": [
       "<matplotlib.figure.Figure at 0x2b4ba9a23c8>"
      ]
     },
     "metadata": {},
     "output_type": "display_data"
    },
    {
     "data": {
      "image/png": "[encoded data removed]",
      "text/plain": [
       "<matplotlib.figure.Figure at 0x2b4a1519400>"
      ]
     },
     "metadata": {},
     "output_type": "display_data"
    }
   ],
   "source": [
    "def make_plot(yr, ag):\n",
    "    dfcs = dataf.query('childs<9 and 0<=sibs<8 and year=={} and age>{} and 0<spanking<8'.format(yr, ag))\n",
    "    dfcsnoisy = dfcs  + np.random.uniform(-0.35, 0.35, (dfcs.shape))\n",
    "    colors = {'1':'red', '2':'red', '3':'blue', '4':'blue'}\n",
    "    sp_color = dfcs['spanking'].apply(lambda x : colors[str(x)])\n",
    "    #print(sp_color)\n",
    "    the_plot = dfcsnoisy.plot(kind='scatter', x='sibs', y='childs', figsize=(7,7), c=sp_color)\n",
    "    return the_plot\n",
    "yr16 = make_plot(2016, 39)\n",
    "yr94 = make_plot(1994, 39)\n",
    "print(yr94, yr16)"
   ]
  },
  {
   "cell_type": "code",
   "execution_count": 200,
   "metadata": {},
   "outputs": [
    {
     "data": {
      "text/html": [
       "<div>\n",
       "<style>\n",
       "    .dataframe thead tr:only-child th {\n",
       "        text-align: right;\n",
       "    }\n",
       "\n",
       "    .dataframe thead th {\n",
       "        text-align: left;\n",
       "    }\n",
       "\n",
       "    .dataframe tbody tr th {\n",
       "        vertical-align: top;\n",
       "    }\n",
       "</style>\n",
       "<table border=\"1\" class=\"dataframe\">\n",
       "  <thead>\n",
       "    <tr style=\"text-align: right;\">\n",
       "      <th></th>\n",
       "      <th>spanking</th>\n",
       "      <th>childs</th>\n",
       "      <th>sibs</th>\n",
       "    </tr>\n",
       "    <tr>\n",
       "      <th>year</th>\n",
       "      <th></th>\n",
       "      <th></th>\n",
       "      <th></th>\n",
       "    </tr>\n",
       "  </thead>\n",
       "  <tbody>\n",
       "    <tr>\n",
       "      <th>1994</th>\n",
       "      <td>2.102194</td>\n",
       "      <td>1.779446</td>\n",
       "      <td>2.932448</td>\n",
       "    </tr>\n",
       "    <tr>\n",
       "      <th>1996</th>\n",
       "      <td>2.118963</td>\n",
       "      <td>1.753828</td>\n",
       "      <td>2.921673</td>\n",
       "    </tr>\n",
       "    <tr>\n",
       "      <th>1998</th>\n",
       "      <td>2.090517</td>\n",
       "      <td>1.740148</td>\n",
       "      <td>2.943350</td>\n",
       "    </tr>\n",
       "    <tr>\n",
       "      <th>2000</th>\n",
       "      <td>2.031462</td>\n",
       "      <td>1.726095</td>\n",
       "      <td>2.957434</td>\n",
       "    </tr>\n",
       "    <tr>\n",
       "      <th>2002</th>\n",
       "      <td>2.055690</td>\n",
       "      <td>1.731235</td>\n",
       "      <td>2.841404</td>\n",
       "    </tr>\n",
       "    <tr>\n",
       "      <th>2004</th>\n",
       "      <td>2.103362</td>\n",
       "      <td>1.749689</td>\n",
       "      <td>2.815691</td>\n",
       "    </tr>\n",
       "    <tr>\n",
       "      <th>2006</th>\n",
       "      <td>2.096461</td>\n",
       "      <td>1.801941</td>\n",
       "      <td>2.914384</td>\n",
       "    </tr>\n",
       "    <tr>\n",
       "      <th>2008</th>\n",
       "      <td>2.070101</td>\n",
       "      <td>1.881757</td>\n",
       "      <td>2.941723</td>\n",
       "    </tr>\n",
       "    <tr>\n",
       "      <th>2010</th>\n",
       "      <td>2.152516</td>\n",
       "      <td>1.797170</td>\n",
       "      <td>2.933176</td>\n",
       "    </tr>\n",
       "    <tr>\n",
       "      <th>2012</th>\n",
       "      <td>2.140981</td>\n",
       "      <td>1.734676</td>\n",
       "      <td>2.866900</td>\n",
       "    </tr>\n",
       "    <tr>\n",
       "      <th>2014</th>\n",
       "      <td>2.164505</td>\n",
       "      <td>1.720137</td>\n",
       "      <td>2.989078</td>\n",
       "    </tr>\n",
       "    <tr>\n",
       "      <th>2016</th>\n",
       "      <td>2.166970</td>\n",
       "      <td>1.758349</td>\n",
       "      <td>2.854888</td>\n",
       "    </tr>\n",
       "  </tbody>\n",
       "</table>\n",
       "</div>"
      ],
      "text/plain": [
       "      spanking    childs      sibs\n",
       "year                              \n",
       "1994  2.102194  1.779446  2.932448\n",
       "1996  2.118963  1.753828  2.921673\n",
       "1998  2.090517  1.740148  2.943350\n",
       "2000  2.031462  1.726095  2.957434\n",
       "2002  2.055690  1.731235  2.841404\n",
       "2004  2.103362  1.749689  2.815691\n",
       "2006  2.096461  1.801941  2.914384\n",
       "2008  2.070101  1.881757  2.941723\n",
       "2010  2.152516  1.797170  2.933176\n",
       "2012  2.140981  1.734676  2.866900\n",
       "2014  2.164505  1.720137  2.989078\n",
       "2016  2.166970  1.758349  2.854888"
      ]
     },
     "execution_count": 200,
     "metadata": {},
     "output_type": "execute_result"
    }
   ],
   "source": [
    "dataf.query(\"childs<9 and 0<=sibs<8 and 0<spanking<8\")[['year','spanking','childs','sibs']].groupby('year').agg('mean')"
   ]
  },
  {
   "cell_type": "code",
   "execution_count": 211,
   "metadata": {},
   "outputs": [
    {
     "data": {
      "text/html": [
       "<div>\n",
       "<style>\n",
       "    .dataframe thead tr:only-child th {\n",
       "        text-align: right;\n",
       "    }\n",
       "\n",
       "    .dataframe thead th {\n",
       "        text-align: left;\n",
       "    }\n",
       "\n",
       "    .dataframe tbody tr th {\n",
       "        vertical-align: top;\n",
       "    }\n",
       "</style>\n",
       "<table border=\"1\" class=\"dataframe\">\n",
       "  <thead>\n",
       "    <tr style=\"text-align: right;\">\n",
       "      <th></th>\n",
       "      <th></th>\n",
       "      <th>spanking</th>\n",
       "    </tr>\n",
       "    <tr>\n",
       "      <th>childs</th>\n",
       "      <th>sibs</th>\n",
       "      <th></th>\n",
       "    </tr>\n",
       "  </thead>\n",
       "  <tbody>\n",
       "    <tr>\n",
       "      <th rowspan=\"8\" valign=\"top\">0</th>\n",
       "      <th>0</th>\n",
       "      <td>0.723926</td>\n",
       "    </tr>\n",
       "    <tr>\n",
       "      <th>1</th>\n",
       "      <td>0.686893</td>\n",
       "    </tr>\n",
       "    <tr>\n",
       "      <th>2</th>\n",
       "      <td>0.709626</td>\n",
       "    </tr>\n",
       "    <tr>\n",
       "      <th>3</th>\n",
       "      <td>0.718676</td>\n",
       "    </tr>\n",
       "    <tr>\n",
       "      <th>4</th>\n",
       "      <td>0.723519</td>\n",
       "    </tr>\n",
       "    <tr>\n",
       "      <th>5</th>\n",
       "      <td>0.700326</td>\n",
       "    </tr>\n",
       "    <tr>\n",
       "      <th>6</th>\n",
       "      <td>0.760181</td>\n",
       "    </tr>\n",
       "    <tr>\n",
       "      <th>7</th>\n",
       "      <td>0.771605</td>\n",
       "    </tr>\n",
       "    <tr>\n",
       "      <th rowspan=\"8\" valign=\"top\">1</th>\n",
       "      <th>0</th>\n",
       "      <td>0.647482</td>\n",
       "    </tr>\n",
       "    <tr>\n",
       "      <th>1</th>\n",
       "      <td>0.657673</td>\n",
       "    </tr>\n",
       "    <tr>\n",
       "      <th>2</th>\n",
       "      <td>0.695082</td>\n",
       "    </tr>\n",
       "    <tr>\n",
       "      <th>3</th>\n",
       "      <td>0.688889</td>\n",
       "    </tr>\n",
       "    <tr>\n",
       "      <th>4</th>\n",
       "      <td>0.725146</td>\n",
       "    </tr>\n",
       "    <tr>\n",
       "      <th>5</th>\n",
       "      <td>0.707921</td>\n",
       "    </tr>\n",
       "    <tr>\n",
       "      <th>6</th>\n",
       "      <td>0.702703</td>\n",
       "    </tr>\n",
       "    <tr>\n",
       "      <th>7</th>\n",
       "      <td>0.744966</td>\n",
       "    </tr>\n",
       "    <tr>\n",
       "      <th rowspan=\"8\" valign=\"top\">2</th>\n",
       "      <th>0</th>\n",
       "      <td>0.736041</td>\n",
       "    </tr>\n",
       "    <tr>\n",
       "      <th>1</th>\n",
       "      <td>0.674365</td>\n",
       "    </tr>\n",
       "    <tr>\n",
       "      <th>2</th>\n",
       "      <td>0.703125</td>\n",
       "    </tr>\n",
       "    <tr>\n",
       "      <th>3</th>\n",
       "      <td>0.713764</td>\n",
       "    </tr>\n",
       "    <tr>\n",
       "      <th>4</th>\n",
       "      <td>0.717277</td>\n",
       "    </tr>\n",
       "    <tr>\n",
       "      <th>5</th>\n",
       "      <td>0.704600</td>\n",
       "    </tr>\n",
       "    <tr>\n",
       "      <th>6</th>\n",
       "      <td>0.707483</td>\n",
       "    </tr>\n",
       "    <tr>\n",
       "      <th>7</th>\n",
       "      <td>0.712329</td>\n",
       "    </tr>\n",
       "    <tr>\n",
       "      <th rowspan=\"6\" valign=\"top\">3</th>\n",
       "      <th>0</th>\n",
       "      <td>0.761062</td>\n",
       "    </tr>\n",
       "    <tr>\n",
       "      <th>1</th>\n",
       "      <td>0.718137</td>\n",
       "    </tr>\n",
       "    <tr>\n",
       "      <th>2</th>\n",
       "      <td>0.723104</td>\n",
       "    </tr>\n",
       "    <tr>\n",
       "      <th>3</th>\n",
       "      <td>0.727273</td>\n",
       "    </tr>\n",
       "    <tr>\n",
       "      <th>4</th>\n",
       "      <td>0.722992</td>\n",
       "    </tr>\n",
       "    <tr>\n",
       "      <th>5</th>\n",
       "      <td>0.750000</td>\n",
       "    </tr>\n",
       "    <tr>\n",
       "      <th>...</th>\n",
       "      <th>...</th>\n",
       "      <td>...</td>\n",
       "    </tr>\n",
       "    <tr>\n",
       "      <th rowspan=\"6\" valign=\"top\">5</th>\n",
       "      <th>2</th>\n",
       "      <td>0.756757</td>\n",
       "    </tr>\n",
       "    <tr>\n",
       "      <th>3</th>\n",
       "      <td>0.728155</td>\n",
       "    </tr>\n",
       "    <tr>\n",
       "      <th>4</th>\n",
       "      <td>0.763889</td>\n",
       "    </tr>\n",
       "    <tr>\n",
       "      <th>5</th>\n",
       "      <td>0.779412</td>\n",
       "    </tr>\n",
       "    <tr>\n",
       "      <th>6</th>\n",
       "      <td>0.684211</td>\n",
       "    </tr>\n",
       "    <tr>\n",
       "      <th>7</th>\n",
       "      <td>0.810811</td>\n",
       "    </tr>\n",
       "    <tr>\n",
       "      <th rowspan=\"8\" valign=\"top\">6</th>\n",
       "      <th>0</th>\n",
       "      <td>0.555556</td>\n",
       "    </tr>\n",
       "    <tr>\n",
       "      <th>1</th>\n",
       "      <td>0.885714</td>\n",
       "    </tr>\n",
       "    <tr>\n",
       "      <th>2</th>\n",
       "      <td>0.764706</td>\n",
       "    </tr>\n",
       "    <tr>\n",
       "      <th>3</th>\n",
       "      <td>0.657895</td>\n",
       "    </tr>\n",
       "    <tr>\n",
       "      <th>4</th>\n",
       "      <td>0.696970</td>\n",
       "    </tr>\n",
       "    <tr>\n",
       "      <th>5</th>\n",
       "      <td>0.800000</td>\n",
       "    </tr>\n",
       "    <tr>\n",
       "      <th>6</th>\n",
       "      <td>0.807692</td>\n",
       "    </tr>\n",
       "    <tr>\n",
       "      <th>7</th>\n",
       "      <td>0.840000</td>\n",
       "    </tr>\n",
       "    <tr>\n",
       "      <th rowspan=\"8\" valign=\"top\">7</th>\n",
       "      <th>0</th>\n",
       "      <td>NaN</td>\n",
       "    </tr>\n",
       "    <tr>\n",
       "      <th>1</th>\n",
       "      <td>0.888889</td>\n",
       "    </tr>\n",
       "    <tr>\n",
       "      <th>2</th>\n",
       "      <td>0.687500</td>\n",
       "    </tr>\n",
       "    <tr>\n",
       "      <th>3</th>\n",
       "      <td>0.739130</td>\n",
       "    </tr>\n",
       "    <tr>\n",
       "      <th>4</th>\n",
       "      <td>0.588235</td>\n",
       "    </tr>\n",
       "    <tr>\n",
       "      <th>5</th>\n",
       "      <td>0.736842</td>\n",
       "    </tr>\n",
       "    <tr>\n",
       "      <th>6</th>\n",
       "      <td>0.636364</td>\n",
       "    </tr>\n",
       "    <tr>\n",
       "      <th>7</th>\n",
       "      <td>0.866667</td>\n",
       "    </tr>\n",
       "    <tr>\n",
       "      <th rowspan=\"8\" valign=\"top\">8</th>\n",
       "      <th>0</th>\n",
       "      <td>0.818182</td>\n",
       "    </tr>\n",
       "    <tr>\n",
       "      <th>1</th>\n",
       "      <td>0.818182</td>\n",
       "    </tr>\n",
       "    <tr>\n",
       "      <th>2</th>\n",
       "      <td>0.764706</td>\n",
       "    </tr>\n",
       "    <tr>\n",
       "      <th>3</th>\n",
       "      <td>0.857143</td>\n",
       "    </tr>\n",
       "    <tr>\n",
       "      <th>4</th>\n",
       "      <td>0.631579</td>\n",
       "    </tr>\n",
       "    <tr>\n",
       "      <th>5</th>\n",
       "      <td>0.578947</td>\n",
       "    </tr>\n",
       "    <tr>\n",
       "      <th>6</th>\n",
       "      <td>0.750000</td>\n",
       "    </tr>\n",
       "    <tr>\n",
       "      <th>7</th>\n",
       "      <td>NaN</td>\n",
       "    </tr>\n",
       "  </tbody>\n",
       "</table>\n",
       "<p>72 rows × 1 columns</p>\n",
       "</div>"
      ],
      "text/plain": [
       "             spanking\n",
       "childs sibs          \n",
       "0      0     0.723926\n",
       "       1     0.686893\n",
       "       2     0.709626\n",
       "       3     0.718676\n",
       "       4     0.723519\n",
       "       5     0.700326\n",
       "       6     0.760181\n",
       "       7     0.771605\n",
       "1      0     0.647482\n",
       "       1     0.657673\n",
       "       2     0.695082\n",
       "       3     0.688889\n",
       "       4     0.725146\n",
       "       5     0.707921\n",
       "       6     0.702703\n",
       "       7     0.744966\n",
       "2      0     0.736041\n",
       "       1     0.674365\n",
       "       2     0.703125\n",
       "       3     0.713764\n",
       "       4     0.717277\n",
       "       5     0.704600\n",
       "       6     0.707483\n",
       "       7     0.712329\n",
       "3      0     0.761062\n",
       "       1     0.718137\n",
       "       2     0.723104\n",
       "       3     0.727273\n",
       "       4     0.722992\n",
       "       5     0.750000\n",
       "...               ...\n",
       "5      2     0.756757\n",
       "       3     0.728155\n",
       "       4     0.763889\n",
       "       5     0.779412\n",
       "       6     0.684211\n",
       "       7     0.810811\n",
       "6      0     0.555556\n",
       "       1     0.885714\n",
       "       2     0.764706\n",
       "       3     0.657895\n",
       "       4     0.696970\n",
       "       5     0.800000\n",
       "       6     0.807692\n",
       "       7     0.840000\n",
       "7      0          NaN\n",
       "       1     0.888889\n",
       "       2     0.687500\n",
       "       3     0.739130\n",
       "       4     0.588235\n",
       "       5     0.736842\n",
       "       6     0.636364\n",
       "       7     0.866667\n",
       "8      0     0.818182\n",
       "       1     0.818182\n",
       "       2     0.764706\n",
       "       3     0.857143\n",
       "       4     0.631579\n",
       "       5     0.578947\n",
       "       6     0.750000\n",
       "       7          NaN\n",
       "\n",
       "[72 rows x 1 columns]"
      ]
     },
     "execution_count": 211,
     "metadata": {},
     "output_type": "execute_result"
    }
   ],
   "source": [
    "pro = (dataf.query(\"childs<9 and 0<=sibs<8 and 1<=spanking<=2\")\n",
    "     [['spanking','childs','sibs']]\n",
    "    .groupby(['childs','sibs']).agg('count'))\n",
    "anti = (dataf.query(\"childs<9 and 0<=sibs<8 and 3<=spanking<=4\")\n",
    "     [['spanking','childs','sibs']]\n",
    "    .groupby(['childs','sibs']).agg('count'))\n",
    "ratio = pro/(pro+anti)\n",
    "ratio"
   ]
  },
  {
   "cell_type": "code",
   "execution_count": null,
   "metadata": {
    "collapsed": true
   },
   "outputs": [],
   "source": [
    "def make_plot(yr, ag):\n",
    "    dfcs = dataf.query('childs<9 and 0<=sibs<8 and year=={} and age>{} and 0<spanking<8'.format(yr, ag))\n",
    "    dfcsnoisy = dfcs  + np.random.uniform(-0.35, 0.35, (dfcs.shape))\n",
    "    colors = {'1':'red', '2':'red', '3':'blue', '4':'blue'}\n",
    "    sp_color = dfcs['spanking'].apply(lambda x : colors[str(x)])\n",
    "    #print(sp_color)\n",
    "    the_plot = dfcsnoisy.plot(kind='scatter', x='sibs', y='childs', figsize=(7,7), c=sp_color)\n",
    "    return the_plot\n",
    "yr16 = make_plot(2016, 39)\n",
    "yr94 = make_plot(1994, 39)\n",
    "print(yr94, yr16)"
   ]
  },
  {
   "cell_type": "code",
   "execution_count": 190,
   "metadata": {},
   "outputs": [
    {
     "name": "stdout",
     "output_type": "stream",
     "text": [
      "       col1      col2\n",
      "0 -1.584753 -0.475069\n",
      "1 -1.956931  0.074553\n",
      "2  0.705613  3.307500\n",
      "3 -0.048477 -0.744863\n",
      "4 -0.775105 -1.105080\n",
      "5 -0.093016  0.186767\n",
      "6  0.544445  0.056610\n",
      "7  0.215880  1.152324\n",
      "8 -1.047421  0.422720\n",
      "9  0.726072 -0.469430\n"
     ]
    },
    {
     "data": {
      "text/html": [
       "<div>\n",
       "<style>\n",
       "    .dataframe thead tr:only-child th {\n",
       "        text-align: right;\n",
       "    }\n",
       "\n",
       "    .dataframe thead th {\n",
       "        text-align: left;\n",
       "    }\n",
       "\n",
       "    .dataframe tbody tr th {\n",
       "        vertical-align: top;\n",
       "    }\n",
       "</style>\n",
       "<table border=\"1\" class=\"dataframe\">\n",
       "  <thead>\n",
       "    <tr style=\"text-align: right;\">\n",
       "      <th></th>\n",
       "      <th>col1</th>\n",
       "      <th>col2</th>\n",
       "    </tr>\n",
       "  </thead>\n",
       "  <tbody>\n",
       "    <tr>\n",
       "      <th>0</th>\n",
       "      <td>-1.652779</td>\n",
       "      <td>-0.487873</td>\n",
       "    </tr>\n",
       "    <tr>\n",
       "      <th>1</th>\n",
       "      <td>-1.863875</td>\n",
       "      <td>0.057056</td>\n",
       "    </tr>\n",
       "    <tr>\n",
       "      <th>2</th>\n",
       "      <td>0.768845</td>\n",
       "      <td>3.329151</td>\n",
       "    </tr>\n",
       "    <tr>\n",
       "      <th>3</th>\n",
       "      <td>0.042759</td>\n",
       "      <td>-0.679804</td>\n",
       "    </tr>\n",
       "    <tr>\n",
       "      <th>4</th>\n",
       "      <td>-0.810871</td>\n",
       "      <td>-1.196963</td>\n",
       "    </tr>\n",
       "    <tr>\n",
       "      <th>5</th>\n",
       "      <td>-0.063813</td>\n",
       "      <td>0.094641</td>\n",
       "    </tr>\n",
       "    <tr>\n",
       "      <th>6</th>\n",
       "      <td>0.605979</td>\n",
       "      <td>0.129375</td>\n",
       "    </tr>\n",
       "    <tr>\n",
       "      <th>7</th>\n",
       "      <td>0.162639</td>\n",
       "      <td>1.243038</td>\n",
       "    </tr>\n",
       "    <tr>\n",
       "      <th>8</th>\n",
       "      <td>-1.134015</td>\n",
       "      <td>0.484810</td>\n",
       "    </tr>\n",
       "    <tr>\n",
       "      <th>9</th>\n",
       "      <td>0.800048</td>\n",
       "      <td>-0.468872</td>\n",
       "    </tr>\n",
       "  </tbody>\n",
       "</table>\n",
       "</div>"
      ],
      "text/plain": [
       "       col1      col2\n",
       "0 -1.652779 -0.487873\n",
       "1 -1.863875  0.057056\n",
       "2  0.768845  3.329151\n",
       "3  0.042759 -0.679804\n",
       "4 -0.810871 -1.196963\n",
       "5 -0.063813  0.094641\n",
       "6  0.605979  0.129375\n",
       "7  0.162639  1.243038\n",
       "8 -1.134015  0.484810\n",
       "9  0.800048 -0.468872"
      ]
     },
     "execution_count": 190,
     "metadata": {},
     "output_type": "execute_result"
    },
    {
     "data": {
      "image/png": "[encoded data removed]",
      "text/plain": [
       "<matplotlib.figure.Figure at 0x2b4bcd9b5f8>"
      ]
     },
     "metadata": {},
     "output_type": "display_data"
    }
   ],
   "source": [
    "df = pd.DataFrame(np.random.randn(10,2), columns=['col1','col2'])\n",
    "df.plot(kind='scatter', x='col1', y='col2')\n",
    "df2 = df + np.random.uniform(-0.1, 0.1, (df.shape))\n",
    "print(df)\n",
    "df2"
   ]
  },
  {
   "cell_type": "code",
   "execution_count": null,
   "metadata": {
    "collapsed": true
   },
   "outputs": [],
   "source": []
  }
 ],
 "metadata": {
  "kernelspec": {
   "display_name": "Python 3",
   "language": "python",
   "name": "python3"
  },
  "language_info": {
   "codemirror_mode": {
    "name": "ipython",
    "version": 3
   },
   "file_extension": ".py",
   "mimetype": "text/x-python",
   "name": "python",
   "nbconvert_exporter": "python",
   "pygments_lexer": "ipython3",
   "version": "3.6.1"
  }
 },
 "nbformat": 4,
 "nbformat_minor": 2
}
