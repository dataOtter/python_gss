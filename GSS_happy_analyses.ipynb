{
 "cells": [
  {
   "cell_type": "code",
   "execution_count": 15,
   "metadata": {},
   "outputs": [],
   "source": [
    "import sys\n",
    "sys.path.append(\"C:/Users/Maisha/Dropbox/Maisha-Bilal/GSS/Python_GSS\")\n",
    "\n",
    "import csv_to_dataframe\n",
    "import numpy as np"
   ]
  },
  {
   "cell_type": "code",
   "execution_count": 16,
   "metadata": {},
   "outputs": [],
   "source": [
    "gss_happy = csv_to_dataframe.get_gss_happy()\n",
    "#csv_to_dataframe.print_bunch(gss_happy)"
   ]
  },
  {
   "cell_type": "code",
   "execution_count": 23,
   "metadata": {},
   "outputs": [
    {
     "data": {
      "text/plain": [
       "bunch.Bunch"
      ]
     },
     "execution_count": 23,
     "metadata": {},
     "output_type": "execute_result"
    }
   ],
   "source": [
    "type(gss_happy)"
   ]
  },
  {
   "cell_type": "code",
   "execution_count": 17,
   "metadata": {},
   "outputs": [
    {
     "data": {
      "text/plain": [
       "dict_keys(['data', 'target', 'target_names', 'DESCR', 'feature_names', 'raw_pandas_frame'])"
      ]
     },
     "execution_count": 17,
     "metadata": {},
     "output_type": "execute_result"
    }
   ],
   "source": [
    "gss_happy.keys()"
   ]
  },
  {
   "cell_type": "code",
   "execution_count": 18,
   "metadata": {},
   "outputs": [
    {
     "data": {
      "text/plain": [
       "(33078, 66)"
      ]
     },
     "execution_count": 18,
     "metadata": {},
     "output_type": "execute_result"
    }
   ],
   "source": [
    "gss_happy.data.shape"
   ]
  },
  {
   "cell_type": "code",
   "execution_count": 19,
   "metadata": {},
   "outputs": [
    {
     "data": {
      "text/plain": [
       "[('Not applicable', 4383),\n",
       " ('Very happy', 8582),\n",
       " ('Pretty happy', 16173),\n",
       " ('Not too happy', 3789),\n",
       " ('', 0),\n",
       " ('', 0),\n",
       " ('', 0),\n",
       " ('', 0),\n",
       " (\"Don't know\", 33),\n",
       " ('No answer', 118)]"
      ]
     },
     "execution_count": 19,
     "metadata": {},
     "output_type": "execute_result"
    }
   ],
   "source": [
    "a = gss_happy.target\n",
    "b = np.bincount(a)\n",
    "c = gss_happy.target_names\n",
    "list(zip(c, b))"
   ]
  },
  {
   "cell_type": "code",
   "execution_count": 20,
   "metadata": {},
   "outputs": [
    {
     "data": {
      "text/plain": [
       "[('Not applicable', 4383),\n",
       " ('Very happy', 8582),\n",
       " ('Pretty happy', 16173),\n",
       " ('Not too happy', 3789),\n",
       " ('', 0),\n",
       " ('', 0),\n",
       " ('', 0),\n",
       " ('', 0),\n",
       " (\"Don't know\", 33),\n",
       " ('No answer', 118)]"
      ]
     },
     "execution_count": 20,
     "metadata": {},
     "output_type": "execute_result"
    }
   ],
   "source": [
    "list(zip(gss_happy.target_names, np.bincount(gss_happy.target)))"
   ]
  },
  {
   "cell_type": "code",
   "execution_count": 21,
   "metadata": {},
   "outputs": [
    {
     "data": {
      "text/plain": [
       "array(['ballot', 'chldidel', 'kidssol', 'parsol', 'wksubs', 'wksub',\n",
       "       'satjob', 'workhard', 'thnkself', 'confed', 'coneduc', 'confinan',\n",
       "       'hapmar', 'happy', 'bible', 'spanking', 'letdie1', 'fear', 'zodiac',\n",
       "       'dwelown', 'realrinc', 'realinc', 'partners', 'marhomo', 'letin',\n",
       "       'discaff', 'marblk', 'helpnot', 'helppoor', 'fefam', 'tvhours',\n",
       "       'news', 'relig16', 'pray', 'speduc', 'maeduc', 'paeduc', 'educ',\n",
       "       'agekdbrn', 'age', 'childs', 'sibs', 'spwrksta', 'marital', 'hrs2',\n",
       "       'hrs1', 'wrkstat', 'id_', 'sex', 'race', 'res16', 'relig', 'grass',\n",
       "       'gunlaw', 'cappun', 'tax', 'eqwlth', 'nateduc', 'natdrug',\n",
       "       'natcrime', 'natenvir', 'polviews', 'partyid', 'born', 'reg16',\n",
       "       'year'], \n",
       "      dtype='<U8')"
      ]
     },
     "execution_count": 21,
     "metadata": {},
     "output_type": "execute_result"
    }
   ],
   "source": [
    "gss_happy.feature_names"
   ]
  },
  {
   "cell_type": "code",
   "execution_count": 22,
   "metadata": {},
   "outputs": [
    {
     "data": {
      "text/plain": [
       "(66,)"
      ]
     },
     "execution_count": 22,
     "metadata": {},
     "output_type": "execute_result"
    }
   ],
   "source": [
    "gss_happy.feature_names.shape"
   ]
  },
  {
   "cell_type": "code",
   "execution_count": null,
   "metadata": {
    "collapsed": true
   },
   "outputs": [],
   "source": []
  }
 ],
 "metadata": {
  "kernelspec": {
   "display_name": "Python 3",
   "language": "python",
   "name": "python3"
  },
  "language_info": {
   "codemirror_mode": {
    "name": "ipython",
    "version": 3
   },
   "file_extension": ".py",
   "mimetype": "text/x-python",
   "name": "python",
   "nbconvert_exporter": "python",
   "pygments_lexer": "ipython3",
   "version": "3.6.1"
  }
 },
 "nbformat": 4,
 "nbformat_minor": 2
}
